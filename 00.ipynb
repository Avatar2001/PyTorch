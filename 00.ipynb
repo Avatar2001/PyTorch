{
  "cells": [
    {
      "cell_type": "code",
      "execution_count": 1,
      "metadata": {
        "id": "qxkHlEc2sbAt"
      },
      "outputs": [],
      "source": [
        "import torch"
      ]
    },
    {
      "cell_type": "code",
      "execution_count": 2,
      "metadata": {
        "colab": {
          "base_uri": "https://localhost:8080/"
        },
        "id": "fmZ8xP2bsxVa",
        "outputId": "8d75a1af-b2f0-496f-85f5-804e0cc2654b"
      },
      "outputs": [
        {
          "data": {
            "text/plain": [
              "(tensor(6), 0, 6)"
            ]
          },
          "execution_count": 2,
          "metadata": {},
          "output_type": "execute_result"
        }
      ],
      "source": [
        "scaler=torch.tensor(6)\n",
        "scaler,scaler.ndim,scaler.item() #ndim is a build in function in pytorch return tensor's dimension\n"
      ]
    },
    {
      "cell_type": "code",
      "execution_count": 3,
      "metadata": {
        "colab": {
          "base_uri": "https://localhost:8080/"
        },
        "id": "_XB4uhkMs-f_",
        "outputId": "8f3ee5de-df8a-49da-f204-05ab80f160f5"
      },
      "outputs": [
        {
          "data": {
            "text/plain": [
              "(tensor([1, 2]), 1, torch.Size([2]))"
            ]
          },
          "execution_count": 3,
          "metadata": {},
          "output_type": "execute_result"
        }
      ],
      "source": [
        "#create vector of tensor\n",
        "vector=torch.tensor([1,2])\n",
        "vector,vector.ndim,vector.shape #item run in scaler only"
      ]
    },
    {
      "cell_type": "code",
      "execution_count": 4,
      "metadata": {
        "colab": {
          "base_uri": "https://localhost:8080/"
        },
        "id": "RmJ3CiGQtt56",
        "outputId": "67654756-f01a-49e5-c833-bc4e55c9f399"
      },
      "outputs": [
        {
          "data": {
            "text/plain": [
              "(tensor([[1, 2],\n",
              "         [3, 4]]),\n",
              " torch.Size([2, 2]),\n",
              " 2)"
            ]
          },
          "execution_count": 4,
          "metadata": {},
          "output_type": "execute_result"
        }
      ],
      "source": [
        "#matrix\n",
        "matrix=torch.tensor([[1,2],[3,4]])\n",
        "matrix,matrix.shape,matrix.ndim"
      ]
    },
    {
      "cell_type": "code",
      "execution_count": 5,
      "metadata": {
        "colab": {
          "base_uri": "https://localhost:8080/"
        },
        "id": "SCmvdOm-uvPm",
        "outputId": "cbd3b1be-aac9-466d-f8eb-3f2ee2600e1d"
      },
      "outputs": [
        {
          "data": {
            "text/plain": [
              "(tensor([[[1, 2, 3],\n",
              "          [4, 5, 6],\n",
              "          [7, 8, 9]]]),\n",
              " torch.Size([1, 3, 3]),\n",
              " 3)"
            ]
          },
          "execution_count": 5,
          "metadata": {},
          "output_type": "execute_result"
        }
      ],
      "source": [
        "#higher order dimension\n",
        "d3_tensor=torch.tensor([[[1,2,3],\n",
        " [4,5,6],\n",
        "  [7,8,9]]])\n",
        "d3_tensor,d3_tensor.shape,d3_tensor.ndim"
      ]
    },
    {
      "cell_type": "code",
      "execution_count": 6,
      "metadata": {
        "colab": {
          "base_uri": "https://localhost:8080/"
        },
        "id": "0VgfAVaqvTvo",
        "outputId": "3dbb5ce9-1809-4e01-d020-8760310ef6ef"
      },
      "outputs": [
        {
          "name": "stdout",
          "output_type": "stream",
          "text": [
            "tensor([[0.9218, 0.9103, 0.2954, 0.3114],\n",
            "        [0.7385, 0.7916, 0.4976, 0.8715],\n",
            "        [0.0765, 0.3399, 0.0713, 0.7227],\n",
            "        [0.2511, 0.9674, 0.1195, 0.0793]])\n"
          ]
        },
        {
          "data": {
            "text/plain": [
              "torch.float32"
            ]
          },
          "execution_count": 6,
          "metadata": {},
          "output_type": "execute_result"
        }
      ],
      "source": [
        "#create a random tensor\n",
        "random_tensor=torch.rand(size=(4,4))\n",
        "print(random_tensor)\n",
        "random_tensor.dtype"
      ]
    },
    {
      "cell_type": "code",
      "execution_count": 7,
      "metadata": {
        "colab": {
          "base_uri": "https://localhost:8080/"
        },
        "id": "OboRwCVpwl05",
        "outputId": "8dc933b6-6a4a-418e-e9d3-257375df7bf1"
      },
      "outputs": [
        {
          "name": "stdout",
          "output_type": "stream",
          "text": [
            "tensor([[[1.6294e-01, 6.3360e-05, 3.3415e-01],\n",
            "         [6.8860e-01, 1.9463e-01, 3.1101e-01],\n",
            "         [9.0508e-01, 4.8472e-01, 7.3141e-01],\n",
            "         ...,\n",
            "         [6.6275e-01, 7.6519e-01, 3.2688e-01],\n",
            "         [1.6971e-01, 7.9300e-01, 8.7505e-01],\n",
            "         [5.5660e-01, 5.1447e-01, 7.9754e-01]],\n",
            "\n",
            "        [[6.0304e-01, 3.2364e-01, 9.0666e-01],\n",
            "         [6.6578e-01, 4.6697e-01, 7.9836e-02],\n",
            "         [8.1049e-01, 9.2476e-01, 7.5208e-02],\n",
            "         ...,\n",
            "         [8.0837e-01, 3.6587e-02, 4.6185e-02],\n",
            "         [5.1892e-02, 9.1781e-01, 1.3359e-01],\n",
            "         [3.5650e-01, 5.3492e-02, 7.6029e-01]],\n",
            "\n",
            "        [[6.2714e-01, 7.4217e-01, 6.5473e-01],\n",
            "         [7.2398e-02, 4.2418e-01, 8.4882e-01],\n",
            "         [5.5489e-02, 7.0976e-01, 3.7296e-01],\n",
            "         ...,\n",
            "         [5.0691e-01, 8.7747e-01, 9.0554e-01],\n",
            "         [9.5116e-01, 9.0753e-01, 8.4814e-01],\n",
            "         [6.4040e-01, 7.4605e-02, 4.9156e-01]],\n",
            "\n",
            "        ...,\n",
            "\n",
            "        [[6.0411e-01, 7.3274e-01, 8.6345e-01],\n",
            "         [9.1945e-01, 6.3198e-01, 9.9517e-01],\n",
            "         [8.4279e-01, 2.7204e-01, 8.2379e-01],\n",
            "         ...,\n",
            "         [9.6174e-01, 3.7206e-01, 1.9362e-01],\n",
            "         [3.0069e-01, 7.9756e-02, 7.9045e-01],\n",
            "         [6.1568e-01, 5.2991e-02, 2.9071e-02]],\n",
            "\n",
            "        [[8.0416e-01, 1.7540e-01, 4.2362e-01],\n",
            "         [7.5416e-01, 4.4660e-01, 8.0103e-01],\n",
            "         [9.6286e-01, 4.8732e-01, 8.2580e-02],\n",
            "         ...,\n",
            "         [6.7333e-01, 7.5813e-01, 7.0695e-01],\n",
            "         [8.6326e-01, 9.1720e-01, 3.2098e-01],\n",
            "         [8.7570e-02, 1.5477e-01, 7.5297e-01]],\n",
            "\n",
            "        [[8.3915e-02, 1.8335e-01, 7.8301e-01],\n",
            "         [4.8975e-01, 8.4533e-01, 6.6301e-01],\n",
            "         [3.9910e-02, 2.7180e-01, 8.8887e-01],\n",
            "         ...,\n",
            "         [5.6339e-01, 5.9223e-01, 1.6219e-01],\n",
            "         [1.5582e-01, 9.6582e-01, 7.4582e-01],\n",
            "         [6.5805e-01, 4.5005e-01, 5.9360e-01]]])\n"
          ]
        },
        {
          "data": {
            "text/plain": [
              "(3, torch.Size([224, 224, 3]))"
            ]
          },
          "execution_count": 7,
          "metadata": {},
          "output_type": "execute_result"
        }
      ],
      "source": [
        "x_tensor=torch.rand(size=(224,224,3))\n",
        "print(x_tensor)\n",
        "x_tensor.ndim,x_tensor.shape"
      ]
    },
    {
      "cell_type": "code",
      "execution_count": 8,
      "metadata": {
        "colab": {
          "base_uri": "https://localhost:8080/"
        },
        "id": "q1W-M0tOySgK",
        "outputId": "d329fcf2-b7d0-41fa-9f30-7e912e982622"
      },
      "outputs": [
        {
          "data": {
            "text/plain": [
              "(tensor([[[0., 0., 0., 0.],\n",
              "          [0., 0., 0., 0.],\n",
              "          [0., 0., 0., 0.]],\n",
              " \n",
              "         [[0., 0., 0., 0.],\n",
              "          [0., 0., 0., 0.],\n",
              "          [0., 0., 0., 0.]]]),\n",
              " torch.Size([2, 3, 4]),\n",
              " torch.float32,\n",
              " 3)"
            ]
          },
          "execution_count": 8,
          "metadata": {},
          "output_type": "execute_result"
        }
      ],
      "source": [
        "#tensor of zeros\n",
        "zeros=torch.zeros(size=(2,3,4))\n",
        "zeros,zeros.shape,zeros.dtype,zeros.ndim"
      ]
    },
    {
      "cell_type": "code",
      "execution_count": 9,
      "metadata": {
        "colab": {
          "base_uri": "https://localhost:8080/"
        },
        "id": "5B7VjvcE4X6_",
        "outputId": "d098ef5b-5305-422f-f343-fd786c1a40f7"
      },
      "outputs": [
        {
          "data": {
            "text/plain": [
              "(tensor([[[1., 1., 1., 1.],\n",
              "          [1., 1., 1., 1.],\n",
              "          [1., 1., 1., 1.]],\n",
              " \n",
              "         [[1., 1., 1., 1.],\n",
              "          [1., 1., 1., 1.],\n",
              "          [1., 1., 1., 1.]]]),\n",
              " torch.Size([2, 3, 4]),\n",
              " torch.float32,\n",
              " 3)"
            ]
          },
          "execution_count": 9,
          "metadata": {},
          "output_type": "execute_result"
        }
      ],
      "source": [
        "#tensor of ones\n",
        "ones=torch.ones(size=(2,3,4))\n",
        "ones,ones.shape,ones.dtype,ones.ndim"
      ]
    },
    {
      "cell_type": "code",
      "execution_count": 10,
      "metadata": {
        "colab": {
          "base_uri": "https://localhost:8080/"
        },
        "id": "EPRB8UQh493L",
        "outputId": "eac18d99-b87f-455f-954c-5798f9a8892c"
      },
      "outputs": [
        {
          "data": {
            "text/plain": [
              "tensor([0, 2, 4, 6, 8])"
            ]
          },
          "execution_count": 10,
          "metadata": {},
          "output_type": "execute_result"
        }
      ],
      "source": [
        "#arrange\n",
        "t_tensor=torch.arange(start=0,end=10,step=2)#can write it as (0,10,2)\n",
        "t_tensor"
      ]
    },
    {
      "cell_type": "code",
      "execution_count": 11,
      "metadata": {
        "colab": {
          "base_uri": "https://localhost:8080/"
        },
        "id": "Bus_zoeC5N9M",
        "outputId": "c04e20e3-cd7e-43a2-cdd3-e3930fd44fd5"
      },
      "outputs": [
        {
          "data": {
            "text/plain": [
              "(tensor([5., 9., 6.], requires_grad=True),\n",
              " torch.float32,\n",
              " device(type='cpu'),\n",
              " True)"
            ]
          },
          "execution_count": 11,
          "metadata": {},
          "output_type": "execute_result"
        }
      ],
      "source": [
        "r_tensor=torch.tensor(data=[5,9,6],\n",
        "                      device='cpu',#default none i can here use cpu or gpu, if i want to use gpu write cuda\n",
        "                      requires_grad=True,#flag true or false,if true its mean store the operations on this tensor ,useful in BackPropagation that update weights ,default equal false\n",
        "                      dtype=torch.float32\n",
        "                      )\n",
        "r_tensor,r_tensor.dtype,r_tensor.device,r_tensor.requires_grad"
      ]
    },
    {
      "cell_type": "markdown",
      "metadata": {
        "id": "BmFt0hEOAKR8"
      },
      "source": [
        "Tensor Operations\n",
        "\n",
        "1-multpliy\n",
        "\n",
        "2-addition\n",
        "\n",
        "3-division\n",
        "\n",
        "4-subtraction\n"
      ]
    },
    {
      "cell_type": "code",
      "execution_count": 12,
      "metadata": {
        "colab": {
          "base_uri": "https://localhost:8080/"
        },
        "id": "KW_vIIMy_eeW",
        "outputId": "0811e62f-e803-4eff-c4c0-24971e95f672"
      },
      "outputs": [
        {
          "data": {
            "text/plain": [
              "tensor([[0.9475, 0.0758, 0.8291],\n",
              "        [0.6449, 0.6956, 0.8285],\n",
              "        [0.9094, 0.3054, 0.6041]])"
            ]
          },
          "execution_count": 12,
          "metadata": {},
          "output_type": "execute_result"
        }
      ],
      "source": [
        "x=torch.rand(size=(3,3))\n",
        "x"
      ]
    },
    {
      "cell_type": "code",
      "execution_count": 13,
      "metadata": {
        "colab": {
          "base_uri": "https://localhost:8080/"
        },
        "id": "G7TRU8QdAkFv",
        "outputId": "84a98fb7-e5ed-4931-8f94-59054156ee5c"
      },
      "outputs": [
        {
          "data": {
            "text/plain": [
              "tensor([[12.9475, 12.0758, 12.8291],\n",
              "        [12.6449, 12.6956, 12.8285],\n",
              "        [12.9094, 12.3054, 12.6041]])"
            ]
          },
          "execution_count": 13,
          "metadata": {},
          "output_type": "execute_result"
        }
      ],
      "source": [
        "x=x+12\n",
        "x"
      ]
    },
    {
      "cell_type": "code",
      "execution_count": 14,
      "metadata": {
        "colab": {
          "base_uri": "https://localhost:8080/"
        },
        "id": "FAa72LN2AoBb",
        "outputId": "28ebf248-7646-41b1-cdf9-2e5e571b707b"
      },
      "outputs": [
        {
          "data": {
            "text/plain": [
              "tensor([[10.9475, 10.0758, 10.8291],\n",
              "        [10.6449, 10.6956, 10.8285],\n",
              "        [10.9094, 10.3054, 10.6041]])"
            ]
          },
          "execution_count": 14,
          "metadata": {},
          "output_type": "execute_result"
        }
      ],
      "source": [
        "x=x-2\n",
        "x"
      ]
    },
    {
      "cell_type": "code",
      "execution_count": 15,
      "metadata": {
        "colab": {
          "base_uri": "https://localhost:8080/"
        },
        "id": "lV7Y5N4iAzGX",
        "outputId": "08a3c423-f501-4dfe-9094-99e2f876c5be"
      },
      "outputs": [
        {
          "data": {
            "text/plain": [
              "tensor([[21.8951, 20.1516, 21.6582],\n",
              "        [21.2898, 21.3913, 21.6569],\n",
              "        [21.8188, 20.6109, 21.2082]])"
            ]
          },
          "execution_count": 15,
          "metadata": {},
          "output_type": "execute_result"
        }
      ],
      "source": [
        "x=x*2\n",
        "x"
      ]
    },
    {
      "cell_type": "code",
      "execution_count": 16,
      "metadata": {
        "colab": {
          "base_uri": "https://localhost:8080/"
        },
        "id": "wmvpC5rkA9B5",
        "outputId": "ff984cc3-9283-48e0-c410-918ddfa047e5"
      },
      "outputs": [
        {
          "data": {
            "text/plain": [
              "tensor([[7.2984, 6.7172, 7.2194],\n",
              "        [7.0966, 7.1304, 7.2190],\n",
              "        [7.2729, 6.8703, 7.0694]])"
            ]
          },
          "execution_count": 16,
          "metadata": {},
          "output_type": "execute_result"
        }
      ],
      "source": [
        "x=x/3\n",
        "x"
      ]
    },
    {
      "cell_type": "code",
      "execution_count": 17,
      "metadata": {
        "colab": {
          "base_uri": "https://localhost:8080/"
        },
        "id": "ARg7LuSxBAmf",
        "outputId": "d16efa7c-2c16-4f52-9888-47232518bd46"
      },
      "outputs": [
        {
          "data": {
            "text/plain": [
              "tensor([[53.2660, 45.1209, 52.1198],\n",
              "        [50.3616, 50.8430, 52.1135],\n",
              "        [52.8954, 47.2009, 49.9763]])"
            ]
          },
          "execution_count": 17,
          "metadata": {},
          "output_type": "execute_result"
        }
      ],
      "source": [
        "y=x*x\n",
        "y"
      ]
    },
    {
      "cell_type": "code",
      "execution_count": 18,
      "metadata": {
        "colab": {
          "base_uri": "https://localhost:8080/"
        },
        "id": "zxiQaQ6NBMjB",
        "outputId": "58c514e2-0f1d-459b-cc13-6d184b3d8e63"
      },
      "outputs": [
        {
          "data": {
            "text/plain": [
              "tensor([[53.2660, 45.1209, 52.1198],\n",
              "        [50.3616, 50.8430, 52.1135],\n",
              "        [52.8954, 47.2009, 49.9763]])"
            ]
          },
          "execution_count": 18,
          "metadata": {},
          "output_type": "execute_result"
        }
      ],
      "source": [
        "x=torch.multiply(x,x)\n",
        "x"
      ]
    },
    {
      "cell_type": "code",
      "execution_count": 19,
      "metadata": {
        "colab": {
          "base_uri": "https://localhost:8080/"
        },
        "id": "CXfh6oYtBVRY",
        "outputId": "0553fe09-df0d-46c6-889e-29707c0eb89b"
      },
      "outputs": [
        {
          "data": {
            "text/plain": [
              "tensor([[0.3066],\n",
              "        [0.3469],\n",
              "        [0.5475]])"
            ]
          },
          "execution_count": 19,
          "metadata": {},
          "output_type": "execute_result"
        }
      ],
      "source": [
        "z=torch.rand(size=(3,1))\n",
        "z"
      ]
    },
    {
      "cell_type": "code",
      "execution_count": 20,
      "metadata": {
        "colab": {
          "base_uri": "https://localhost:8080/"
        },
        "id": "KwoWIWiBBnk2",
        "outputId": "15665c63-5ea9-4ab0-9181-827b9f614957"
      },
      "outputs": [
        {
          "data": {
            "text/plain": [
              "tensor([[60.5215],\n",
              "        [61.6124],\n",
              "        [59.9557]])"
            ]
          },
          "execution_count": 20,
          "metadata": {},
          "output_type": "execute_result"
        }
      ],
      "source": [
        "f=torch.matmul(x,z)\n",
        "f"
      ]
    },
    {
      "cell_type": "code",
      "execution_count": 21,
      "metadata": {
        "colab": {
          "base_uri": "https://localhost:8080/"
        },
        "id": "W1vElbTwFIOH",
        "outputId": "b8ec9f40-a3fc-4df4-9ff8-28c03415b7aa"
      },
      "outputs": [
        {
          "data": {
            "text/plain": [
              "tensor([[0.8823, 0.9150, 0.3829],\n",
              "        [0.9593, 0.3904, 0.6009],\n",
              "        [0.2566, 0.7936, 0.9408]])"
            ]
          },
          "execution_count": 21,
          "metadata": {},
          "output_type": "execute_result"
        }
      ],
      "source": [
        "#manual seed generation\n",
        "torch.manual_seed(42)#in function rand uf i run a multoile time the numbers in tensor will change but if use manual seed it will br the same numbers whatever how many times i run\n",
        "random=torch.rand(size=(3,3))\n",
        "random\n"
      ]
    },
    {
      "cell_type": "code",
      "execution_count": 22,
      "metadata": {
        "colab": {
          "base_uri": "https://localhost:8080/"
        },
        "id": "k5pZ6dONPWMr",
        "outputId": "8cfc0c59-6d82-43d8-f55c-b4c4bca49e4a"
      },
      "outputs": [
        {
          "data": {
            "text/plain": [
              "tensor([[ 0.7051, -0.2982, -0.4677, -0.1081,  0.6268, -0.5662,  0.0187],\n",
              "        [ 0.1833, -0.1319, -0.0342,  0.2409,  0.7545, -0.3065,  0.0655],\n",
              "        [ 0.4877, -0.0887, -0.1096,  0.2450,  0.6908, -0.1542,  0.1849],\n",
              "        [ 0.3705, -0.2586, -0.3475,  0.1475,  0.6644, -0.1468,  0.2507]],\n",
              "       grad_fn=<AddmmBackward0>)"
            ]
          },
          "execution_count": 22,
          "metadata": {},
          "output_type": "execute_result"
        }
      ],
      "source": [
        "from torch import nn\n",
        "linear=nn.Linear(in_features=7,out_features=7)\n",
        "l=torch.rand(size=(4,7))\n",
        "u=linear(l)\n",
        "u\n"
      ]
    },
    {
      "cell_type": "code",
      "execution_count": 23,
      "metadata": {
        "colab": {
          "base_uri": "https://localhost:8080/"
        },
        "id": "EA4AZbzaRilJ",
        "outputId": "505750f1-fe39-4094-a515-f5370ffc43db"
      },
      "outputs": [
        {
          "data": {
            "text/plain": [
              "tensor([0, 1, 2, 3, 4, 5, 6, 7, 8, 9])"
            ]
          },
          "execution_count": 23,
          "metadata": {},
          "output_type": "execute_result"
        }
      ],
      "source": [
        "v=torch.arange(0,10)\n",
        "v"
      ]
    },
    {
      "cell_type": "code",
      "execution_count": 24,
      "metadata": {
        "colab": {
          "base_uri": "https://localhost:8080/"
        },
        "id": "b3uGp7PBS7Nc",
        "outputId": "49176050-a9ec-4e57-95b1-8d717abcd6c1"
      },
      "outputs": [
        {
          "data": {
            "text/plain": [
              "(tensor(0), tensor(9), tensor(4.5000))"
            ]
          },
          "execution_count": 24,
          "metadata": {},
          "output_type": "execute_result"
        }
      ],
      "source": [
        "v.min(),v.max(),v.type(torch.float32).mean()"
      ]
    },
    {
      "cell_type": "code",
      "execution_count": 25,
      "metadata": {
        "colab": {
          "base_uri": "https://localhost:8080/"
        },
        "id": "RlcQJ8gHS-5g",
        "outputId": "d8044e66-91fc-4a7f-b69b-f0eadf045f12"
      },
      "outputs": [
        {
          "data": {
            "text/plain": [
              "(tensor(0), tensor(9))"
            ]
          },
          "execution_count": 25,
          "metadata": {},
          "output_type": "execute_result"
        }
      ],
      "source": [
        "v.argmin(),v.argmax()#return index of max and min"
      ]
    },
    {
      "cell_type": "code",
      "execution_count": 26,
      "metadata": {
        "colab": {
          "base_uri": "https://localhost:8080/"
        },
        "id": "HXc3OHETTovK",
        "outputId": "7797158f-8714-4656-f3d8-762b7e75ee78"
      },
      "outputs": [
        {
          "data": {
            "text/plain": [
              "(tensor([0, 1, 2, 3, 4, 5, 6, 7, 8, 9]), torch.int64)"
            ]
          },
          "execution_count": 26,
          "metadata": {},
          "output_type": "execute_result"
        }
      ],
      "source": [
        "float_tensor=torch.arange(0,10)\n",
        "float_tensor,float_tensor.dtype"
      ]
    },
    {
      "cell_type": "code",
      "execution_count": 27,
      "metadata": {
        "colab": {
          "base_uri": "https://localhost:8080/"
        },
        "id": "yC8_ZQrvUbxq",
        "outputId": "9516156f-7353-4997-e9e7-d5559f0ec822"
      },
      "outputs": [
        {
          "data": {
            "text/plain": [
              "(tensor([0., 1., 2., 3., 4., 5., 6., 7., 8., 9.]), torch.float32)"
            ]
          },
          "execution_count": 27,
          "metadata": {},
          "output_type": "execute_result"
        }
      ],
      "source": [
        "float_tensor=torch.arange(0,10,1.)\n",
        "float_tensor,float_tensor.dtype"
      ]
    },
    {
      "cell_type": "code",
      "execution_count": null,
      "metadata": {
        "id": "9AKvAC6EUiTj"
      },
      "outputs": [],
      "source": []
    }
  ],
  "metadata": {
    "colab": {
      "provenance": []
    },
    "kernelspec": {
      "display_name": "Python 3",
      "name": "python3"
    },
    "language_info": {
      "codemirror_mode": {
        "name": "ipython",
        "version": 3
      },
      "file_extension": ".py",
      "mimetype": "text/x-python",
      "name": "python",
      "nbconvert_exporter": "python",
      "pygments_lexer": "ipython3",
      "version": "3.12.3"
    }
  },
  "nbformat": 4,
  "nbformat_minor": 0
}
