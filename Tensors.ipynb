{
  "cells": [
    {
      "cell_type": "code",
      "execution_count": 1,
      "metadata": {
        "id": "qxkHlEc2sbAt"
      },
      "outputs": [],
      "source": [
        "import torch"
      ]
    },
    {
      "cell_type": "code",
      "execution_count": 2,
      "metadata": {
        "colab": {
          "base_uri": "https://localhost:8080/"
        },
        "id": "fmZ8xP2bsxVa",
        "outputId": "ed43b0d6-b5e1-4b81-d582-d53256730db8"
      },
      "outputs": [
        {
          "output_type": "execute_result",
          "data": {
            "text/plain": [
              "(tensor(6), 0, 6)"
            ]
          },
          "metadata": {},
          "execution_count": 2
        }
      ],
      "source": [
        "scaler=torch.tensor(6)\n",
        "scaler,scaler.ndim,scaler.item() #ndim is a build in function in pytorch return tensor's dimension\n"
      ]
    },
    {
      "cell_type": "code",
      "execution_count": 3,
      "metadata": {
        "colab": {
          "base_uri": "https://localhost:8080/"
        },
        "id": "_XB4uhkMs-f_",
        "outputId": "5f410ba3-dddb-4d88-912d-c548e97074d7"
      },
      "outputs": [
        {
          "output_type": "execute_result",
          "data": {
            "text/plain": [
              "(tensor([1, 2]), 1, torch.Size([2]))"
            ]
          },
          "metadata": {},
          "execution_count": 3
        }
      ],
      "source": [
        "#create vector of tensor\n",
        "vector=torch.tensor([1,2])\n",
        "vector,vector.ndim,vector.shape #item run in scaler only"
      ]
    },
    {
      "cell_type": "code",
      "execution_count": 4,
      "metadata": {
        "colab": {
          "base_uri": "https://localhost:8080/"
        },
        "id": "RmJ3CiGQtt56",
        "outputId": "49dfc5da-4ed2-4f2b-c224-edd7e3625a1b"
      },
      "outputs": [
        {
          "output_type": "execute_result",
          "data": {
            "text/plain": [
              "(tensor([[1, 2],\n",
              "         [3, 4]]),\n",
              " torch.Size([2, 2]),\n",
              " 2)"
            ]
          },
          "metadata": {},
          "execution_count": 4
        }
      ],
      "source": [
        "#matrix\n",
        "matrix=torch.tensor([[1,2],[3,4]])\n",
        "matrix,matrix.shape,matrix.ndim"
      ]
    },
    {
      "cell_type": "code",
      "execution_count": 5,
      "metadata": {
        "colab": {
          "base_uri": "https://localhost:8080/"
        },
        "id": "SCmvdOm-uvPm",
        "outputId": "ec35cdd7-5715-4cc2-b42d-af80f3c46355"
      },
      "outputs": [
        {
          "output_type": "execute_result",
          "data": {
            "text/plain": [
              "(tensor([[[1, 2, 3],\n",
              "          [4, 5, 6],\n",
              "          [7, 8, 9]]]),\n",
              " torch.Size([1, 3, 3]),\n",
              " 3)"
            ]
          },
          "metadata": {},
          "execution_count": 5
        }
      ],
      "source": [
        "#higher order dimension\n",
        "d3_tensor=torch.tensor([[[1,2,3],\n",
        " [4,5,6],\n",
        "  [7,8,9]]])\n",
        "d3_tensor,d3_tensor.shape,d3_tensor.ndim"
      ]
    },
    {
      "cell_type": "code",
      "execution_count": 6,
      "metadata": {
        "colab": {
          "base_uri": "https://localhost:8080/"
        },
        "id": "0VgfAVaqvTvo",
        "outputId": "752e90bb-1cec-401c-b40f-85e9bbe7338d"
      },
      "outputs": [
        {
          "output_type": "stream",
          "name": "stdout",
          "text": [
            "tensor([[0.4491, 0.7848, 0.8829, 0.9892],\n",
            "        [0.8263, 0.7406, 0.6080, 0.2834],\n",
            "        [0.5470, 0.8587, 0.8301, 0.0703],\n",
            "        [0.3639, 0.5213, 0.6541, 0.1239]])\n"
          ]
        },
        {
          "output_type": "execute_result",
          "data": {
            "text/plain": [
              "torch.float32"
            ]
          },
          "metadata": {},
          "execution_count": 6
        }
      ],
      "source": [
        "#create a random tensor\n",
        "random_tensor=torch.rand(size=(4,4))\n",
        "print(random_tensor)\n",
        "random_tensor.dtype"
      ]
    },
    {
      "cell_type": "code",
      "execution_count": 7,
      "metadata": {
        "colab": {
          "base_uri": "https://localhost:8080/"
        },
        "id": "OboRwCVpwl05",
        "outputId": "7c09e4fc-e674-42ca-e49d-80e906be51bc"
      },
      "outputs": [
        {
          "output_type": "stream",
          "name": "stdout",
          "text": [
            "tensor([[[0.2090, 0.2911, 0.5754],\n",
            "         [0.1703, 0.0804, 0.9721],\n",
            "         [0.4274, 0.3039, 0.7628],\n",
            "         ...,\n",
            "         [0.0987, 0.8868, 0.6834],\n",
            "         [0.4566, 0.5667, 0.7233],\n",
            "         [0.4133, 0.4523, 0.3159]],\n",
            "\n",
            "        [[0.9495, 0.9838, 0.7480],\n",
            "         [0.1350, 0.5744, 0.1886],\n",
            "         [0.8634, 0.4249, 0.7848],\n",
            "         ...,\n",
            "         [0.5210, 0.8799, 0.0906],\n",
            "         [0.2659, 0.5506, 0.1600],\n",
            "         [0.7041, 0.4435, 0.9547]],\n",
            "\n",
            "        [[0.7021, 0.1068, 0.0294],\n",
            "         [0.9704, 0.3421, 0.1198],\n",
            "         [0.7723, 0.0601, 0.6548],\n",
            "         ...,\n",
            "         [0.7593, 0.7158, 0.0737],\n",
            "         [0.5389, 0.7228, 0.7839],\n",
            "         [0.8319, 0.0593, 0.5532]],\n",
            "\n",
            "        ...,\n",
            "\n",
            "        [[0.2877, 0.3564, 0.8620],\n",
            "         [0.3589, 0.0533, 0.1167],\n",
            "         [0.4393, 0.7465, 0.2785],\n",
            "         ...,\n",
            "         [0.7569, 0.1252, 0.7130],\n",
            "         [0.5451, 0.9749, 0.7728],\n",
            "         [0.5899, 0.1425, 0.8262]],\n",
            "\n",
            "        [[0.0845, 0.0818, 0.5099],\n",
            "         [0.0422, 0.5243, 0.3999],\n",
            "         [0.1254, 0.9093, 0.7846],\n",
            "         ...,\n",
            "         [0.0705, 0.5769, 0.9607],\n",
            "         [0.5656, 0.6390, 0.8428],\n",
            "         [0.6684, 0.2454, 0.8917]],\n",
            "\n",
            "        [[0.2383, 0.4163, 0.1880],\n",
            "         [0.0995, 0.7639, 0.3162],\n",
            "         [0.0581, 0.7056, 0.4589],\n",
            "         ...,\n",
            "         [0.9807, 0.2636, 0.2979],\n",
            "         [0.0479, 0.3000, 0.1000],\n",
            "         [0.8794, 0.5542, 0.8356]]])\n"
          ]
        },
        {
          "output_type": "execute_result",
          "data": {
            "text/plain": [
              "(3, torch.Size([224, 224, 3]))"
            ]
          },
          "metadata": {},
          "execution_count": 7
        }
      ],
      "source": [
        "x_tensor=torch.rand(size=(224,224,3))\n",
        "print(x_tensor)\n",
        "x_tensor.ndim,x_tensor.shape"
      ]
    },
    {
      "cell_type": "code",
      "execution_count": 8,
      "metadata": {
        "colab": {
          "base_uri": "https://localhost:8080/"
        },
        "id": "q1W-M0tOySgK",
        "outputId": "6eb134cd-3820-49b3-caeb-315f87caff7a"
      },
      "outputs": [
        {
          "output_type": "execute_result",
          "data": {
            "text/plain": [
              "(tensor([[[0., 0., 0., 0.],\n",
              "          [0., 0., 0., 0.],\n",
              "          [0., 0., 0., 0.]],\n",
              " \n",
              "         [[0., 0., 0., 0.],\n",
              "          [0., 0., 0., 0.],\n",
              "          [0., 0., 0., 0.]]]),\n",
              " torch.Size([2, 3, 4]),\n",
              " torch.float32,\n",
              " 3)"
            ]
          },
          "metadata": {},
          "execution_count": 8
        }
      ],
      "source": [
        "#tensor of zeros\n",
        "zeros=torch.zeros(size=(2,3,4))\n",
        "zeros,zeros.shape,zeros.dtype,zeros.ndim"
      ]
    },
    {
      "cell_type": "code",
      "execution_count": 9,
      "metadata": {
        "colab": {
          "base_uri": "https://localhost:8080/"
        },
        "id": "5B7VjvcE4X6_",
        "outputId": "6c529879-97b9-4575-e16c-7085d3b874f4"
      },
      "outputs": [
        {
          "output_type": "execute_result",
          "data": {
            "text/plain": [
              "(tensor([[[1., 1., 1., 1.],\n",
              "          [1., 1., 1., 1.],\n",
              "          [1., 1., 1., 1.]],\n",
              " \n",
              "         [[1., 1., 1., 1.],\n",
              "          [1., 1., 1., 1.],\n",
              "          [1., 1., 1., 1.]]]),\n",
              " torch.Size([2, 3, 4]),\n",
              " torch.float32,\n",
              " 3)"
            ]
          },
          "metadata": {},
          "execution_count": 9
        }
      ],
      "source": [
        "#tensor of ones\n",
        "ones=torch.ones(size=(2,3,4))\n",
        "ones,ones.shape,ones.dtype,ones.ndim"
      ]
    },
    {
      "cell_type": "code",
      "execution_count": 10,
      "metadata": {
        "colab": {
          "base_uri": "https://localhost:8080/"
        },
        "id": "EPRB8UQh493L",
        "outputId": "ab4acb3b-9ac4-4c39-fb41-6febf40fbc06"
      },
      "outputs": [
        {
          "output_type": "execute_result",
          "data": {
            "text/plain": [
              "tensor([0, 2, 4, 6, 8])"
            ]
          },
          "metadata": {},
          "execution_count": 10
        }
      ],
      "source": [
        "#arrange\n",
        "t_tensor=torch.arange(start=0,end=10,step=2)#can write it as (0,10,2)\n",
        "t_tensor"
      ]
    },
    {
      "cell_type": "code",
      "execution_count": 11,
      "metadata": {
        "id": "Bus_zoeC5N9M",
        "colab": {
          "base_uri": "https://localhost:8080/"
        },
        "outputId": "3e63e772-1018-48c4-e6c0-215347436eaa"
      },
      "outputs": [
        {
          "output_type": "execute_result",
          "data": {
            "text/plain": [
              "(tensor([5., 9., 6.], requires_grad=True),\n",
              " torch.float32,\n",
              " device(type='cpu'),\n",
              " True)"
            ]
          },
          "metadata": {},
          "execution_count": 11
        }
      ],
      "source": [
        "r_tensor=torch.tensor(data=[5,9,6],\n",
        "                      device='cpu',#default none i can here use cpu or gpu, if i want to use gpu write cuda\n",
        "                      requires_grad=True,#flag true or false,if true its mean store the operations on this tensor ,useful in BackPropagation that update weights ,default equal false\n",
        "                      dtype=torch.float32\n",
        "                      )\n",
        "r_tensor,r_tensor.dtype,r_tensor.device,r_tensor.requires_grad"
      ]
    },
    {
      "cell_type": "markdown",
      "source": [
        "Tensor Operations\n",
        "\n",
        "1-multpliy\n",
        "\n",
        "2-addition\n",
        "\n",
        "3-division\n",
        "\n",
        "4-subtraction\n"
      ],
      "metadata": {
        "id": "BmFt0hEOAKR8"
      }
    },
    {
      "cell_type": "code",
      "source": [
        "x=torch.rand(size=(3,3))\n",
        "x"
      ],
      "metadata": {
        "colab": {
          "base_uri": "https://localhost:8080/"
        },
        "id": "KW_vIIMy_eeW",
        "outputId": "aeafa06c-fc79-448e-dcf8-e85c7ed87183"
      },
      "execution_count": 12,
      "outputs": [
        {
          "output_type": "execute_result",
          "data": {
            "text/plain": [
              "tensor([[0.6303, 0.0615, 0.2170],\n",
              "        [0.4568, 0.7218, 0.6054],\n",
              "        [0.0946, 0.9219, 0.0761]])"
            ]
          },
          "metadata": {},
          "execution_count": 12
        }
      ]
    },
    {
      "cell_type": "code",
      "source": [
        "x=x+12\n",
        "x"
      ],
      "metadata": {
        "colab": {
          "base_uri": "https://localhost:8080/"
        },
        "id": "G7TRU8QdAkFv",
        "outputId": "d494bdf3-49dd-4589-fb19-73c04d714d72"
      },
      "execution_count": 13,
      "outputs": [
        {
          "output_type": "execute_result",
          "data": {
            "text/plain": [
              "tensor([[12.6303, 12.0615, 12.2170],\n",
              "        [12.4568, 12.7218, 12.6054],\n",
              "        [12.0946, 12.9219, 12.0761]])"
            ]
          },
          "metadata": {},
          "execution_count": 13
        }
      ]
    },
    {
      "cell_type": "code",
      "source": [
        "x=x-2\n",
        "x"
      ],
      "metadata": {
        "colab": {
          "base_uri": "https://localhost:8080/"
        },
        "id": "FAa72LN2AoBb",
        "outputId": "b06726df-7f7d-45f1-937e-8ab8987f32c0"
      },
      "execution_count": 14,
      "outputs": [
        {
          "output_type": "execute_result",
          "data": {
            "text/plain": [
              "tensor([[10.6303, 10.0615, 10.2170],\n",
              "        [10.4568, 10.7218, 10.6054],\n",
              "        [10.0946, 10.9219, 10.0761]])"
            ]
          },
          "metadata": {},
          "execution_count": 14
        }
      ]
    },
    {
      "cell_type": "code",
      "source": [
        "x=x*2\n",
        "x"
      ],
      "metadata": {
        "colab": {
          "base_uri": "https://localhost:8080/"
        },
        "id": "lV7Y5N4iAzGX",
        "outputId": "ad34f167-a360-478a-9711-d79327bfbafb"
      },
      "execution_count": 15,
      "outputs": [
        {
          "output_type": "execute_result",
          "data": {
            "text/plain": [
              "tensor([[21.2606, 20.1231, 20.4339],\n",
              "        [20.9137, 21.4436, 21.2107],\n",
              "        [20.1892, 21.8437, 20.1523]])"
            ]
          },
          "metadata": {},
          "execution_count": 15
        }
      ]
    },
    {
      "cell_type": "code",
      "source": [
        "x=x/3\n",
        "x"
      ],
      "metadata": {
        "colab": {
          "base_uri": "https://localhost:8080/"
        },
        "id": "wmvpC5rkA9B5",
        "outputId": "9926a199-4eae-4d71-8e04-cf8a40b12bab"
      },
      "execution_count": 16,
      "outputs": [
        {
          "output_type": "execute_result",
          "data": {
            "text/plain": [
              "tensor([[7.0869, 6.7077, 6.8113],\n",
              "        [6.9712, 7.1479, 7.0702],\n",
              "        [6.7297, 7.2812, 6.7174]])"
            ]
          },
          "metadata": {},
          "execution_count": 16
        }
      ]
    },
    {
      "cell_type": "code",
      "source": [
        "y=x*x\n",
        "y"
      ],
      "metadata": {
        "colab": {
          "base_uri": "https://localhost:8080/"
        },
        "id": "ARg7LuSxBAmf",
        "outputId": "8d219c56-ff0b-4216-df0b-16b8b46c79c1"
      },
      "execution_count": 17,
      "outputs": [
        {
          "output_type": "execute_result",
          "data": {
            "text/plain": [
              "tensor([[50.2238, 44.9931, 46.3938],\n",
              "        [48.5980, 51.0920, 49.9884],\n",
              "        [45.2892, 53.0166, 45.1237]])"
            ]
          },
          "metadata": {},
          "execution_count": 17
        }
      ]
    },
    {
      "cell_type": "code",
      "source": [
        "x=torch.multiply(x,x)\n",
        "x"
      ],
      "metadata": {
        "colab": {
          "base_uri": "https://localhost:8080/"
        },
        "id": "zxiQaQ6NBMjB",
        "outputId": "71bca6eb-becd-43cd-bdb1-ec56f938046f"
      },
      "execution_count": 18,
      "outputs": [
        {
          "output_type": "execute_result",
          "data": {
            "text/plain": [
              "tensor([[50.2238, 44.9931, 46.3938],\n",
              "        [48.5980, 51.0920, 49.9884],\n",
              "        [45.2892, 53.0166, 45.1237]])"
            ]
          },
          "metadata": {},
          "execution_count": 18
        }
      ]
    },
    {
      "cell_type": "code",
      "source": [
        "z=torch.rand(size=(3,1))\n",
        "z"
      ],
      "metadata": {
        "colab": {
          "base_uri": "https://localhost:8080/"
        },
        "id": "CXfh6oYtBVRY",
        "outputId": "431b8106-3e98-4c85-a412-635db3acdc87"
      },
      "execution_count": 19,
      "outputs": [
        {
          "output_type": "execute_result",
          "data": {
            "text/plain": [
              "tensor([[0.4280],\n",
              "        [0.3011],\n",
              "        [0.1931]])"
            ]
          },
          "metadata": {},
          "execution_count": 19
        }
      ]
    },
    {
      "cell_type": "code",
      "source": [
        "f=torch.matmul(x,z)\n",
        "f"
      ],
      "metadata": {
        "colab": {
          "base_uri": "https://localhost:8080/"
        },
        "id": "KwoWIWiBBnk2",
        "outputId": "faa36607-6b2b-4d93-f0f6-bb68540e96c3"
      },
      "execution_count": 20,
      "outputs": [
        {
          "output_type": "execute_result",
          "data": {
            "text/plain": [
              "tensor([[44.0017],\n",
              "        [45.8366],\n",
              "        [44.0607]])"
            ]
          },
          "metadata": {},
          "execution_count": 20
        }
      ]
    },
    {
      "cell_type": "code",
      "source": [
        "#manual seed generation\n",
        "torch.manual_seed(42)#in function rand uf i run a multoile time the numbers in tensor will change but if use manual seed it will br the same numbers whatever how many times i run\n",
        "random=torch.rand(size=(3,3))\n",
        "random\n"
      ],
      "metadata": {
        "colab": {
          "base_uri": "https://localhost:8080/"
        },
        "id": "W1vElbTwFIOH",
        "outputId": "daad5e81-b5b9-48f9-b90d-c3ab0467228e"
      },
      "execution_count": 21,
      "outputs": [
        {
          "output_type": "execute_result",
          "data": {
            "text/plain": [
              "tensor([[0.8823, 0.9150, 0.3829],\n",
              "        [0.9593, 0.3904, 0.6009],\n",
              "        [0.2566, 0.7936, 0.9408]])"
            ]
          },
          "metadata": {},
          "execution_count": 21
        }
      ]
    },
    {
      "cell_type": "code",
      "source": [
        "from torch import nn\n",
        "linear=nn.Linear(in_features=7,out_features=7)\n",
        "l=torch.rand(size=(4,7))\n",
        "u=linear(l)\n",
        "u\n"
      ],
      "metadata": {
        "colab": {
          "base_uri": "https://localhost:8080/"
        },
        "id": "k5pZ6dONPWMr",
        "outputId": "44bc605a-633a-46b4-e6a0-e61cf9ef6745"
      },
      "execution_count": 22,
      "outputs": [
        {
          "output_type": "execute_result",
          "data": {
            "text/plain": [
              "tensor([[ 0.7051, -0.2982, -0.4677, -0.1081,  0.6268, -0.5662,  0.0187],\n",
              "        [ 0.1833, -0.1319, -0.0342,  0.2409,  0.7545, -0.3065,  0.0655],\n",
              "        [ 0.4877, -0.0887, -0.1096,  0.2450,  0.6908, -0.1542,  0.1849],\n",
              "        [ 0.3705, -0.2586, -0.3475,  0.1475,  0.6644, -0.1468,  0.2507]],\n",
              "       grad_fn=<AddmmBackward0>)"
            ]
          },
          "metadata": {},
          "execution_count": 22
        }
      ]
    },
    {
      "cell_type": "code",
      "source": [
        "v=torch.arange(0,10)\n",
        "v"
      ],
      "metadata": {
        "colab": {
          "base_uri": "https://localhost:8080/"
        },
        "id": "EA4AZbzaRilJ",
        "outputId": "727bd123-14dc-4c03-a595-d0391e9cdcfb"
      },
      "execution_count": 23,
      "outputs": [
        {
          "output_type": "execute_result",
          "data": {
            "text/plain": [
              "tensor([0, 1, 2, 3, 4, 5, 6, 7, 8, 9])"
            ]
          },
          "metadata": {},
          "execution_count": 23
        }
      ]
    },
    {
      "cell_type": "code",
      "source": [
        "v.min(),v.max(),v.type(torch.float32).mean()"
      ],
      "metadata": {
        "colab": {
          "base_uri": "https://localhost:8080/"
        },
        "id": "b3uGp7PBS7Nc",
        "outputId": "6552ac07-41f9-4602-c144-7a1230470790"
      },
      "execution_count": 24,
      "outputs": [
        {
          "output_type": "execute_result",
          "data": {
            "text/plain": [
              "(tensor(0), tensor(9), tensor(4.5000))"
            ]
          },
          "metadata": {},
          "execution_count": 24
        }
      ]
    },
    {
      "cell_type": "code",
      "source": [
        "v.argmin(),v.argmax()#return index of max and min"
      ],
      "metadata": {
        "colab": {
          "base_uri": "https://localhost:8080/"
        },
        "id": "RlcQJ8gHS-5g",
        "outputId": "a7109c26-8732-42f9-e5bb-a73e3ff05071"
      },
      "execution_count": 25,
      "outputs": [
        {
          "output_type": "execute_result",
          "data": {
            "text/plain": [
              "(tensor(0), tensor(9))"
            ]
          },
          "metadata": {},
          "execution_count": 25
        }
      ]
    },
    {
      "cell_type": "code",
      "source": [
        "float_tensor=torch.arange(0,10)\n",
        "float_tensor,float_tensor.dtype"
      ],
      "metadata": {
        "colab": {
          "base_uri": "https://localhost:8080/"
        },
        "id": "HXc3OHETTovK",
        "outputId": "d55786f1-b31c-4742-8284-66c126d8e309"
      },
      "execution_count": 26,
      "outputs": [
        {
          "output_type": "execute_result",
          "data": {
            "text/plain": [
              "(tensor([0, 1, 2, 3, 4, 5, 6, 7, 8, 9]), torch.int64)"
            ]
          },
          "metadata": {},
          "execution_count": 26
        }
      ]
    },
    {
      "cell_type": "code",
      "source": [
        "float_tensor=torch.arange(0,10,1.)\n",
        "float_tensor,float_tensor.dtype"
      ],
      "metadata": {
        "colab": {
          "base_uri": "https://localhost:8080/"
        },
        "id": "yC8_ZQrvUbxq",
        "outputId": "8dfd7c9f-bad1-44ba-807c-82bf0f08893c"
      },
      "execution_count": 27,
      "outputs": [
        {
          "output_type": "execute_result",
          "data": {
            "text/plain": [
              "(tensor([0., 1., 2., 3., 4., 5., 6., 7., 8., 9.]), torch.float32)"
            ]
          },
          "metadata": {},
          "execution_count": 27
        }
      ]
    },
    {
      "cell_type": "code",
      "source": [
        "#Transpose\n",
        "print(u.shape)\n",
        "print(u.T)\n",
        "u_transpose=torch.transpose(u,0,1)\n",
        "print(u_transpose.shape)"
      ],
      "metadata": {
        "id": "9AKvAC6EUiTj",
        "colab": {
          "base_uri": "https://localhost:8080/"
        },
        "outputId": "a066799b-0ea0-4b19-bbd6-5beff708834b"
      },
      "execution_count": 30,
      "outputs": [
        {
          "output_type": "stream",
          "name": "stdout",
          "text": [
            "torch.Size([4, 7])\n",
            "tensor([[ 0.7051,  0.1833,  0.4877,  0.3705],\n",
            "        [-0.2982, -0.1319, -0.0887, -0.2586],\n",
            "        [-0.4677, -0.0342, -0.1096, -0.3475],\n",
            "        [-0.1081,  0.2409,  0.2450,  0.1475],\n",
            "        [ 0.6268,  0.7545,  0.6908,  0.6644],\n",
            "        [-0.5662, -0.3065, -0.1542, -0.1468],\n",
            "        [ 0.0187,  0.0655,  0.1849,  0.2507]], grad_fn=<PermuteBackward0>)\n",
            "torch.Size([7, 4])\n"
          ]
        }
      ]
    },
    {
      "cell_type": "code",
      "source": [
        "#another way to transpose\n",
        "u_transpose2=u.t()\n",
        "print(u.shape)\n",
        "print(u_transpose2.shape)"
      ],
      "metadata": {
        "colab": {
          "base_uri": "https://localhost:8080/"
        },
        "id": "cHEAzlQuqHgi",
        "outputId": "732c6eaa-bb32-4f4b-f791-afb15a53343c"
      },
      "execution_count": 33,
      "outputs": [
        {
          "output_type": "stream",
          "name": "stdout",
          "text": [
            "torch.Size([4, 7])\n",
            "torch.Size([7, 4])\n"
          ]
        }
      ]
    },
    {
      "cell_type": "code",
      "source": [
        "#mean\n",
        "mean1=torch.arange(0,100.,10)\n",
        "print(mean1)\n",
        "print(mean1.dtype)\n",
        "print(mean1.mean())"
      ],
      "metadata": {
        "colab": {
          "base_uri": "https://localhost:8080/"
        },
        "id": "nWUTgfR0q10F",
        "outputId": "25e7e946-c81b-41fa-f6a2-35097bcbedaa"
      },
      "execution_count": 43,
      "outputs": [
        {
          "output_type": "stream",
          "name": "stdout",
          "text": [
            "tensor([ 0., 10., 20., 30., 40., 50., 60., 70., 80., 90.])\n",
            "torch.float32\n",
            "tensor(45.)\n"
          ]
        }
      ]
    },
    {
      "cell_type": "code",
      "source": [
        "#convert int into float\n",
        "mean2=torch.arange(0,10,1)\n",
        "mean2=mean2.type(torch.float32)\n",
        "print(mean2)\n",
        "print(mean2.dtype)\n",
        "print(mean2.mean())"
      ],
      "metadata": {
        "colab": {
          "base_uri": "https://localhost:8080/"
        },
        "id": "fNCZ4zhwrHEn",
        "outputId": "e2d94f84-e428-4b82-a11d-c8366dc6ab3f"
      },
      "execution_count": 46,
      "outputs": [
        {
          "output_type": "stream",
          "name": "stdout",
          "text": [
            "tensor([0., 1., 2., 3., 4., 5., 6., 7., 8., 9.])\n",
            "torch.float32\n",
            "tensor(4.5000)\n"
          ]
        }
      ]
    },
    {
      "cell_type": "code",
      "source": [
        "#Reshaping a tensor\n",
        "re=torch.rand(size=(540,240,3))\n",
        "re=re.reshape(240,540,3)\n",
        "re.shape #it have to be the same size if i have image and total of pixels 17000 when i reshape it have to be the same pixels"
      ],
      "metadata": {
        "colab": {
          "base_uri": "https://localhost:8080/"
        },
        "id": "WfySxZr7sY4n",
        "outputId": "71bf41ed-d8dc-40e2-ae2c-96f28c56bc3d"
      },
      "execution_count": 56,
      "outputs": [
        {
          "output_type": "execute_result",
          "data": {
            "text/plain": [
              "torch.Size([240, 540, 3])"
            ]
          },
          "metadata": {},
          "execution_count": 56
        }
      ]
    },
    {
      "cell_type": "markdown",
      "source": [
        "If i have image i can resize it using\n",
        "\n",
        "resized=transformrs.Resize((340,340))"
      ],
      "metadata": {
        "id": "K_3jQ4UKvEre"
      }
    },
    {
      "cell_type": "code",
      "source": [
        "print(mean2.shape)\n",
        "mean2=mean2.reshape(1,-1)#1 to add a dimension\n",
        "print(mean2.shape)\n",
        "mean2=mean2.reshape(1,1,-1)\n",
        "mean2.shape"
      ],
      "metadata": {
        "colab": {
          "base_uri": "https://localhost:8080/"
        },
        "id": "I8NRUTXQtO8B",
        "outputId": "2543e9e1-686b-4866-8352-73d23dd896ed"
      },
      "execution_count": 59,
      "outputs": [
        {
          "output_type": "stream",
          "name": "stdout",
          "text": [
            "torch.Size([1, 10])\n",
            "torch.Size([1, 10])\n"
          ]
        },
        {
          "output_type": "execute_result",
          "data": {
            "text/plain": [
              "torch.Size([1, 1, 10])"
            ]
          },
          "metadata": {},
          "execution_count": 59
        }
      ]
    },
    {
      "cell_type": "markdown",
      "source": [
        "Shapes important bec it is a common error in pytorch when i deal with tensors\n"
      ],
      "metadata": {
        "id": "I3zmj3Uz21vu"
      }
    },
    {
      "cell_type": "code",
      "source": [
        "float_tensor=mean2.reshape(2,5)\n",
        "float_tensor"
      ],
      "metadata": {
        "colab": {
          "base_uri": "https://localhost:8080/"
        },
        "id": "5bRmJMFT16YD",
        "outputId": "f188e597-3696-4c62-c445-7c45af84870d"
      },
      "execution_count": 60,
      "outputs": [
        {
          "output_type": "execute_result",
          "data": {
            "text/plain": [
              "tensor([[0., 1., 2., 3., 4.],\n",
              "        [5., 6., 7., 8., 9.]])"
            ]
          },
          "metadata": {},
          "execution_count": 60
        }
      ]
    },
    {
      "cell_type": "code",
      "source": [
        "# i have image or tensor 224,224,3 and i want to compress it into vector\n",
        "o=torch.rand(size=(224,224,3))\n",
        "o=o.reshape(224*224,3)\n",
        "print(o.shape)\n",
        "o=o.reshape(224*224*3)\n",
        "print(o.shape)\n",
        "o=o.reshape(-1,1)\n",
        "print(o.shape)"
      ],
      "metadata": {
        "colab": {
          "base_uri": "https://localhost:8080/"
        },
        "id": "c9-0V-VW389V",
        "outputId": "aef82078-19aa-43f9-83b0-a39c0b4faea1"
      },
      "execution_count": 67,
      "outputs": [
        {
          "output_type": "stream",
          "name": "stdout",
          "text": [
            "torch.Size([50176, 3])\n",
            "torch.Size([150528])\n",
            "torch.Size([150528, 1])\n"
          ]
        }
      ]
    },
    {
      "cell_type": "code",
      "source": [
        "x"
      ],
      "metadata": {
        "colab": {
          "base_uri": "https://localhost:8080/"
        },
        "id": "Y1kcEuM95prt",
        "outputId": "ff8f868e-faa1-4a73-f454-b9256e9b5bcf"
      },
      "execution_count": 69,
      "outputs": [
        {
          "output_type": "execute_result",
          "data": {
            "text/plain": [
              "tensor([[50.2238, 44.9931, 46.3938],\n",
              "        [48.5980, 51.0920, 49.9884],\n",
              "        [45.2892, 53.0166, 45.1237]])"
            ]
          },
          "metadata": {},
          "execution_count": 69
        }
      ]
    },
    {
      "cell_type": "code",
      "source": [
        "#stack tensor\n",
        "x_stack=torch.stack([x,x,x,x])\n",
        "x_stack,x_stack.shape"
      ],
      "metadata": {
        "colab": {
          "base_uri": "https://localhost:8080/"
        },
        "id": "87NxvXII4h4B",
        "outputId": "6a69f56b-79ca-467e-f737-50b63ada2509"
      },
      "execution_count": 74,
      "outputs": [
        {
          "output_type": "execute_result",
          "data": {
            "text/plain": [
              "(tensor([[[50.2238, 44.9931, 46.3938],\n",
              "          [48.5980, 51.0920, 49.9884],\n",
              "          [45.2892, 53.0166, 45.1237]],\n",
              " \n",
              "         [[50.2238, 44.9931, 46.3938],\n",
              "          [48.5980, 51.0920, 49.9884],\n",
              "          [45.2892, 53.0166, 45.1237]],\n",
              " \n",
              "         [[50.2238, 44.9931, 46.3938],\n",
              "          [48.5980, 51.0920, 49.9884],\n",
              "          [45.2892, 53.0166, 45.1237]],\n",
              " \n",
              "         [[50.2238, 44.9931, 46.3938],\n",
              "          [48.5980, 51.0920, 49.9884],\n",
              "          [45.2892, 53.0166, 45.1237]]]),\n",
              " torch.Size([4, 3, 3]))"
            ]
          },
          "metadata": {},
          "execution_count": 74
        }
      ]
    },
    {
      "cell_type": "code",
      "source": [
        "k=torch.arange(0,10)\n",
        "k=k.reshape(1,-1)\n",
        "print(k.shape)\n",
        "k=k.squeeze() #squeeze remove extra dimension\n",
        "print(k.shape)\n",
        "k=k.unsqueeze(dim=0) #add dimension where i put in any dim\n",
        "print(k.shape)\n",
        "k=k.unsqueeze(dim=2)\n",
        "print(k.shape)\n",
        "print(k)"
      ],
      "metadata": {
        "colab": {
          "base_uri": "https://localhost:8080/"
        },
        "id": "LPMjCzlY5oEz",
        "outputId": "a90dd0d5-67ba-4bba-c429-08cbd3f00c00"
      },
      "execution_count": 83,
      "outputs": [
        {
          "output_type": "stream",
          "name": "stdout",
          "text": [
            "torch.Size([1, 10])\n",
            "torch.Size([10])\n",
            "torch.Size([1, 10])\n",
            "torch.Size([1, 10, 1])\n",
            "tensor([[[0],\n",
            "         [1],\n",
            "         [2],\n",
            "         [3],\n",
            "         [4],\n",
            "         [5],\n",
            "         [6],\n",
            "         [7],\n",
            "         [8],\n",
            "         [9]]])\n"
          ]
        }
      ]
    },
    {
      "cell_type": "code",
      "source": [
        "#permute\n",
        "#if i have tensor(10.20,1) and want to cnovert it into (1,10,20)\n",
        "p=torch.rand(224,260,3)\n",
        "print(p.shape)\n",
        "p=p.permute(2,0,1)\n",
        "print(p.shape)"
      ],
      "metadata": {
        "colab": {
          "base_uri": "https://localhost:8080/"
        },
        "id": "0pspevEE9Qzy",
        "outputId": "f132e56e-f376-4af8-9c06-041e6c837903"
      },
      "execution_count": 87,
      "outputs": [
        {
          "output_type": "stream",
          "name": "stdout",
          "text": [
            "torch.Size([224, 260, 3])\n",
            "torch.Size([3, 224, 260])\n"
          ]
        }
      ]
    },
    {
      "cell_type": "code",
      "source": [],
      "metadata": {
        "id": "UdfoDuf7_Os3"
      },
      "execution_count": null,
      "outputs": []
    }
  ],
  "metadata": {
    "colab": {
      "provenance": []
    },
    "kernelspec": {
      "display_name": "Python 3",
      "name": "python3"
    },
    "language_info": {
      "codemirror_mode": {
        "name": "ipython",
        "version": 3
      },
      "file_extension": ".py",
      "mimetype": "text/x-python",
      "name": "python",
      "nbconvert_exporter": "python",
      "pygments_lexer": "ipython3",
      "version": "3.12.3"
    }
  },
  "nbformat": 4,
  "nbformat_minor": 0
}